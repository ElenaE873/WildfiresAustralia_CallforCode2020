{
 "cells": [
  {
   "cell_type": "markdown",
   "metadata": {},
   "source": [
    "#### The Objective\n",
    "\n",
    "The ultimate aim of of the challenge is to **predict the area of wildfires in 7 regions in Australia for February 2021** with historical data, before they have happened! \n",
    "\n",
    "There are three submissions:\n",
    "- 1) Predict wildfires in February 2020.\n",
    "- 2) Predict wildifres in 3rd and 4th week of January 2021.\n",
    "- 3) Predict wildfires in February 20201."
   ]
  },
  {
   "cell_type": "markdown",
   "metadata": {},
   "source": [
    "#### 1.1 Historical Wildfires\n",
    "\n",
    "This wildfire dataset contains data on fire activities in Australia starting from 2005. Additional information can be found [here](https://earthdata.nasa.gov/earth-observation-data/near-real-time/firms/c6-mcd14dl). For this competition, all MCD14DL data was further processed by using [IBM PAIRS Geoscope](https://ibmpairs.mybluemix.net/).\n",
    "\n",
    "#### Variables \n",
    "\n",
    "* `Region`: the 7 regions\n",
    "* `Date`: in UTC and provide the data for 24 hours ahead\n",
    "* `Estimated_fire_area`: daily sum of estimated fire area for presumed vegetation fires with a confidence > 75% for a each region in km$^2$\n",
    "* `Mean_estimated_fire_brightness`: daily mean (by flagged fire pixels(=count)) of estimated fire brightness for presumed vegetation fires with a confidence level > 75% in Kelvin\n",
    "* `Mean_estimated_fire_radiative_power`: daily mean of estimated radiative power for presumed vegetation fires with a confidence level > 75% for a given region in megawatts\n",
    "* `Mean_confidence`: daily mean of confidence for presumed vegetation fires with a confidence level > 75% \n",
    "* `Std_confidence`: standard deviation of estimated fire radiative power in megawatts\n",
    "* `Var_confidence`: Variance of estimated fire radiative power in megawatts\n",
    "* `Count`: daily numbers of pixels for presumed vegetation fires with a confidence level of larger than 75% for a given region\n",
    "* `Replaced`: Indicates with an `Y` whether the data has been replaced with standard quality data when they are available (usually with a 2-3 month lag). Replaced data has a slightly higher quality in terms of locations"
   ]
  },
  {
   "cell_type": "markdown",
   "metadata": {},
   "source": [
    "#### Steps:\n",
    "[1. Load Packages](#LoadPackages) \n",
    "\n",
    "[2. Descriptive Stats](#DescriptiveStats) \n",
    "\n",
    "[3. Evaluating for Missing Values](#MissingValues) \n",
    "\n",
    "[4. Fixing Missing Values (2 columns)](#FixingMissing) \n",
    "\n",
    "[5. Checking for Duplicates (no duplicates)](#Duplicates) \n",
    "\n",
    "[6. Fixing Duplicates (only a note placeholder)](#FixingDuplicates) \n",
    "\n",
    "[7. Wildfires Data Review](#DataReview) \n",
    "\n",
    "[8. Save out Pre-Processed \"C&P_Wildfires\" CSV File](#PreprocessedWildfires) "
   ]
  },
  {
   "cell_type": "markdown",
   "metadata": {},
   "source": [
    "#### Load packages <a class=\"anchor\" id=\"LoadPackages\"></a>"
   ]
  },
  {
   "cell_type": "code",
   "execution_count": 1,
   "metadata": {},
   "outputs": [],
   "source": [
    "# Import the necessary packages for analysis and visualization\n",
    "import numpy as np\n",
    "import pandas as pd\n",
    "import matplotlib.pyplot as plt, mpld3\n",
    "%matplotlib inline\n",
    "import json\n",
    "import datetime\n",
    "\n",
    "from shapely.geometry import Polygon, mapping\n",
    "import geopandas as gpd\n",
    "import folium\n",
    "from folium.plugins import TimeSliderChoropleth\n",
    "import seaborn as sns\n",
    "import plotly.express as px\n",
    "\n",
    "sns.set_style(\"whitegrid\")\n",
    "\n",
    "import warnings\n",
    "warnings.filterwarnings(\"ignore\")"
   ]
  },
  {
   "cell_type": "markdown",
   "metadata": {},
   "source": [
    "#### Notes:\n",
    "\n",
    "* This file contains the `Estimated_fire_area` that you can be used as the labels to train the model.\n",
    "* Other columns columns can also be used as features to train model.\n",
    "* Data type has been changed to match across all other datasets.\n",
    "* Reset 1 record with null values in the std_confidence and var_confidence columns to zeros.\n",
    "* No duplicates or drops."
   ]
  },
  {
   "cell_type": "code",
   "execution_count": 2,
   "metadata": {},
   "outputs": [
    {
     "name": "stdout",
     "output_type": "stream",
     "text": [
      "Reading file: 'H_Wildfires.csv'\n",
      "Loaded...\n",
      "Region                                         object\n",
      "Date                                   datetime64[ns]\n",
      "Estimated_fire_area                           float64\n",
      "Mean_estimated_fire_brightness                float64\n",
      "Mean_estimated_fire_radiative_power           float64\n",
      "Mean_confidence                               float64\n",
      "Std_confidence                                float64\n",
      "Var_confidence                                float64\n",
      "Count                                           int64\n",
      "Replaced                                       object\n",
      "dtype: object\n"
     ]
    },
    {
     "data": {
      "text/html": [
       "<div>\n",
       "<style scoped>\n",
       "    .dataframe tbody tr th:only-of-type {\n",
       "        vertical-align: middle;\n",
       "    }\n",
       "\n",
       "    .dataframe tbody tr th {\n",
       "        vertical-align: top;\n",
       "    }\n",
       "\n",
       "    .dataframe thead th {\n",
       "        text-align: right;\n",
       "    }\n",
       "</style>\n",
       "<table border=\"1\" class=\"dataframe\">\n",
       "  <thead>\n",
       "    <tr style=\"text-align: right;\">\n",
       "      <th></th>\n",
       "      <th>Region</th>\n",
       "      <th>Date</th>\n",
       "      <th>Estimated_fire_area</th>\n",
       "      <th>Mean_estimated_fire_brightness</th>\n",
       "      <th>Mean_estimated_fire_radiative_power</th>\n",
       "      <th>Mean_confidence</th>\n",
       "      <th>Std_confidence</th>\n",
       "      <th>Var_confidence</th>\n",
       "      <th>Count</th>\n",
       "      <th>Replaced</th>\n",
       "    </tr>\n",
       "  </thead>\n",
       "  <tbody>\n",
       "    <tr>\n",
       "      <th>0</th>\n",
       "      <td>NSW</td>\n",
       "      <td>2005-01-04</td>\n",
       "      <td>8.68000</td>\n",
       "      <td>312.266667</td>\n",
       "      <td>42.400000</td>\n",
       "      <td>78.666667</td>\n",
       "      <td>2.886751</td>\n",
       "      <td>8.333333</td>\n",
       "      <td>3</td>\n",
       "      <td>R</td>\n",
       "    </tr>\n",
       "    <tr>\n",
       "      <th>1</th>\n",
       "      <td>NSW</td>\n",
       "      <td>2005-01-05</td>\n",
       "      <td>16.61125</td>\n",
       "      <td>322.475000</td>\n",
       "      <td>62.362500</td>\n",
       "      <td>85.500000</td>\n",
       "      <td>8.088793</td>\n",
       "      <td>65.428571</td>\n",
       "      <td>8</td>\n",
       "      <td>R</td>\n",
       "    </tr>\n",
       "    <tr>\n",
       "      <th>2</th>\n",
       "      <td>NSW</td>\n",
       "      <td>2005-01-06</td>\n",
       "      <td>5.52000</td>\n",
       "      <td>325.266667</td>\n",
       "      <td>38.400000</td>\n",
       "      <td>78.333333</td>\n",
       "      <td>3.214550</td>\n",
       "      <td>10.333333</td>\n",
       "      <td>3</td>\n",
       "      <td>R</td>\n",
       "    </tr>\n",
       "    <tr>\n",
       "      <th>3</th>\n",
       "      <td>NSW</td>\n",
       "      <td>2005-01-07</td>\n",
       "      <td>6.26400</td>\n",
       "      <td>313.870000</td>\n",
       "      <td>33.800000</td>\n",
       "      <td>92.200000</td>\n",
       "      <td>7.529940</td>\n",
       "      <td>56.700000</td>\n",
       "      <td>5</td>\n",
       "      <td>R</td>\n",
       "    </tr>\n",
       "    <tr>\n",
       "      <th>4</th>\n",
       "      <td>NSW</td>\n",
       "      <td>2005-01-08</td>\n",
       "      <td>5.40000</td>\n",
       "      <td>337.383333</td>\n",
       "      <td>122.533333</td>\n",
       "      <td>91.000000</td>\n",
       "      <td>7.937254</td>\n",
       "      <td>63.000000</td>\n",
       "      <td>3</td>\n",
       "      <td>R</td>\n",
       "    </tr>\n",
       "  </tbody>\n",
       "</table>\n",
       "</div>"
      ],
      "text/plain": [
       "  Region       Date  Estimated_fire_area  Mean_estimated_fire_brightness  \\\n",
       "0    NSW 2005-01-04              8.68000                      312.266667   \n",
       "1    NSW 2005-01-05             16.61125                      322.475000   \n",
       "2    NSW 2005-01-06              5.52000                      325.266667   \n",
       "3    NSW 2005-01-07              6.26400                      313.870000   \n",
       "4    NSW 2005-01-08              5.40000                      337.383333   \n",
       "\n",
       "   Mean_estimated_fire_radiative_power  Mean_confidence  Std_confidence  \\\n",
       "0                            42.400000        78.666667        2.886751   \n",
       "1                            62.362500        85.500000        8.088793   \n",
       "2                            38.400000        78.333333        3.214550   \n",
       "3                            33.800000        92.200000        7.529940   \n",
       "4                           122.533333        91.000000        7.937254   \n",
       "\n",
       "   Var_confidence  Count Replaced  \n",
       "0        8.333333      3        R  \n",
       "1       65.428571      8        R  \n",
       "2       10.333333      3        R  \n",
       "3       56.700000      5        R  \n",
       "4       63.000000      3        R  "
      ]
     },
     "execution_count": 2,
     "metadata": {},
     "output_type": "execute_result"
    }
   ],
   "source": [
    "# Load the dataset\n",
    "wildfires = \"H_Wildfires.csv\"\n",
    "print(\"Reading file: '{}'\".format(wildfires))\n",
    "wildfires_df = pd.read_csv(wildfires, parse_dates=[1])\n",
    "print(\"Loaded...\")\n",
    "\n",
    "# Columns and their datatypes\n",
    "print(wildfires_df.dtypes)\n",
    "\n",
    "wildfires_df.head()"
   ]
  },
  {
   "cell_type": "markdown",
   "metadata": {},
   "source": [
    "#### Notes:\n",
    "For every region {object}:\n",
    "- 1 - Date : (format YYYY-MM-DD) {datetime64[ns]}\n",
    "- 2 - Estimated fire area : (km2) {float64}\n",
    "- 3 - Mean estimated brightness: (K) {float64}\n",
    "- 4 - Mean estimated fire radiative power (MW) {float64}"
   ]
  },
  {
   "cell_type": "code",
   "execution_count": 3,
   "metadata": {},
   "outputs": [
    {
     "data": {
      "text/html": [
       "<div>\n",
       "<style scoped>\n",
       "    .dataframe tbody tr th:only-of-type {\n",
       "        vertical-align: middle;\n",
       "    }\n",
       "\n",
       "    .dataframe tbody tr th {\n",
       "        vertical-align: top;\n",
       "    }\n",
       "\n",
       "    .dataframe thead th {\n",
       "        text-align: right;\n",
       "    }\n",
       "</style>\n",
       "<table border=\"1\" class=\"dataframe\">\n",
       "  <thead>\n",
       "    <tr style=\"text-align: right;\">\n",
       "      <th></th>\n",
       "      <th>Region</th>\n",
       "      <th>Date</th>\n",
       "      <th>Estimated_fire_area</th>\n",
       "      <th>Mean_estimated_fire_brightness</th>\n",
       "      <th>Mean_estimated_fire_radiative_power</th>\n",
       "      <th>Mean_confidence</th>\n",
       "      <th>Std_confidence</th>\n",
       "      <th>Var_confidence</th>\n",
       "      <th>Count</th>\n",
       "      <th>Replaced</th>\n",
       "    </tr>\n",
       "  </thead>\n",
       "  <tbody>\n",
       "    <tr>\n",
       "      <th>0</th>\n",
       "      <td>NSW</td>\n",
       "      <td>2005-01-04</td>\n",
       "      <td>8.68000</td>\n",
       "      <td>312.266667</td>\n",
       "      <td>42.400000</td>\n",
       "      <td>78.666667</td>\n",
       "      <td>2.886751</td>\n",
       "      <td>8.333333</td>\n",
       "      <td>3</td>\n",
       "      <td>R</td>\n",
       "    </tr>\n",
       "    <tr>\n",
       "      <th>1</th>\n",
       "      <td>NSW</td>\n",
       "      <td>2005-01-05</td>\n",
       "      <td>16.61125</td>\n",
       "      <td>322.475000</td>\n",
       "      <td>62.362500</td>\n",
       "      <td>85.500000</td>\n",
       "      <td>8.088793</td>\n",
       "      <td>65.428571</td>\n",
       "      <td>8</td>\n",
       "      <td>R</td>\n",
       "    </tr>\n",
       "    <tr>\n",
       "      <th>2</th>\n",
       "      <td>NSW</td>\n",
       "      <td>2005-01-06</td>\n",
       "      <td>5.52000</td>\n",
       "      <td>325.266667</td>\n",
       "      <td>38.400000</td>\n",
       "      <td>78.333333</td>\n",
       "      <td>3.214550</td>\n",
       "      <td>10.333333</td>\n",
       "      <td>3</td>\n",
       "      <td>R</td>\n",
       "    </tr>\n",
       "    <tr>\n",
       "      <th>3</th>\n",
       "      <td>NSW</td>\n",
       "      <td>2005-01-07</td>\n",
       "      <td>6.26400</td>\n",
       "      <td>313.870000</td>\n",
       "      <td>33.800000</td>\n",
       "      <td>92.200000</td>\n",
       "      <td>7.529940</td>\n",
       "      <td>56.700000</td>\n",
       "      <td>5</td>\n",
       "      <td>R</td>\n",
       "    </tr>\n",
       "    <tr>\n",
       "      <th>4</th>\n",
       "      <td>NSW</td>\n",
       "      <td>2005-01-08</td>\n",
       "      <td>5.40000</td>\n",
       "      <td>337.383333</td>\n",
       "      <td>122.533333</td>\n",
       "      <td>91.000000</td>\n",
       "      <td>7.937254</td>\n",
       "      <td>63.000000</td>\n",
       "      <td>3</td>\n",
       "      <td>R</td>\n",
       "    </tr>\n",
       "  </tbody>\n",
       "</table>\n",
       "</div>"
      ],
      "text/plain": [
       "  Region       Date  Estimated_fire_area  Mean_estimated_fire_brightness  \\\n",
       "0    NSW 2005-01-04              8.68000                      312.266667   \n",
       "1    NSW 2005-01-05             16.61125                      322.475000   \n",
       "2    NSW 2005-01-06              5.52000                      325.266667   \n",
       "3    NSW 2005-01-07              6.26400                      313.870000   \n",
       "4    NSW 2005-01-08              5.40000                      337.383333   \n",
       "\n",
       "   Mean_estimated_fire_radiative_power  Mean_confidence  Std_confidence  \\\n",
       "0                            42.400000        78.666667        2.886751   \n",
       "1                            62.362500        85.500000        8.088793   \n",
       "2                            38.400000        78.333333        3.214550   \n",
       "3                            33.800000        92.200000        7.529940   \n",
       "4                           122.533333        91.000000        7.937254   \n",
       "\n",
       "   Var_confidence  Count Replaced  \n",
       "0        8.333333      3        R  \n",
       "1       65.428571      8        R  \n",
       "2       10.333333      3        R  \n",
       "3       56.700000      5        R  \n",
       "4       63.000000      3        R  "
      ]
     },
     "execution_count": 3,
     "metadata": {},
     "output_type": "execute_result"
    }
   ],
   "source": [
    "#changing date type for consistency across all datasets\n",
    "wildfires_df['Date'] = pd.to_datetime(wildfires_df['Date'])\n",
    "wildfires_df.head()"
   ]
  },
  {
   "cell_type": "markdown",
   "metadata": {},
   "source": [
    "#### Descriptive Stats <a class=\"anchor\" id=\"DescriptiveStats\"></a>"
   ]
  },
  {
   "cell_type": "code",
   "execution_count": 4,
   "metadata": {},
   "outputs": [
    {
     "data": {
      "text/plain": [
       "Region                                         object\n",
       "Date                                   datetime64[ns]\n",
       "Estimated_fire_area                           float64\n",
       "Mean_estimated_fire_brightness                float64\n",
       "Mean_estimated_fire_radiative_power           float64\n",
       "Mean_confidence                               float64\n",
       "Std_confidence                                float64\n",
       "Var_confidence                                float64\n",
       "Count                                           int64\n",
       "Replaced                                       object\n",
       "dtype: object"
      ]
     },
     "execution_count": 4,
     "metadata": {},
     "output_type": "execute_result"
    }
   ],
   "source": [
    "wildfires_df.dtypes"
   ]
  },
  {
   "cell_type": "code",
   "execution_count": 5,
   "metadata": {},
   "outputs": [
    {
     "data": {
      "text/plain": [
       "(26406, 10)"
      ]
     },
     "execution_count": 5,
     "metadata": {},
     "output_type": "execute_result"
    }
   ],
   "source": [
    "wildfires_df.shape"
   ]
  },
  {
   "cell_type": "code",
   "execution_count": 6,
   "metadata": {},
   "outputs": [
    {
     "name": "stdout",
     "output_type": "stream",
     "text": [
      "<class 'pandas.core.frame.DataFrame'>\n",
      "RangeIndex: 26406 entries, 0 to 26405\n",
      "Data columns (total 10 columns):\n",
      " #   Column                               Non-Null Count  Dtype         \n",
      "---  ------                               --------------  -----         \n",
      " 0   Region                               26406 non-null  object        \n",
      " 1   Date                                 26406 non-null  datetime64[ns]\n",
      " 2   Estimated_fire_area                  26406 non-null  float64       \n",
      " 3   Mean_estimated_fire_brightness       26406 non-null  float64       \n",
      " 4   Mean_estimated_fire_radiative_power  26406 non-null  float64       \n",
      " 5   Mean_confidence                      26406 non-null  float64       \n",
      " 6   Std_confidence                       24199 non-null  float64       \n",
      " 7   Var_confidence                       24199 non-null  float64       \n",
      " 8   Count                                26406 non-null  int64         \n",
      " 9   Replaced                             26406 non-null  object        \n",
      "dtypes: datetime64[ns](1), float64(6), int64(1), object(2)\n",
      "memory usage: 2.0+ MB\n"
     ]
    }
   ],
   "source": [
    "wildfires_df.info()"
   ]
  },
  {
   "cell_type": "markdown",
   "metadata": {},
   "source": [
    "#### Evaluating for Missing Values <a class=\"anchor\" id=\"MissingValues\"></a>"
   ]
  },
  {
   "cell_type": "code",
   "execution_count": 7,
   "metadata": {},
   "outputs": [
    {
     "data": {
      "text/plain": [
       "Region                                    0\n",
       "Date                                      0\n",
       "Estimated_fire_area                       0\n",
       "Mean_estimated_fire_brightness            0\n",
       "Mean_estimated_fire_radiative_power       0\n",
       "Mean_confidence                           0\n",
       "Std_confidence                         2207\n",
       "Var_confidence                         2207\n",
       "Count                                     0\n",
       "Replaced                                  0\n",
       "dtype: int64"
      ]
     },
     "execution_count": 7,
     "metadata": {},
     "output_type": "execute_result"
    }
   ],
   "source": [
    "# check for missing values\n",
    "wildfires_df.isna().sum()"
   ]
  },
  {
   "cell_type": "code",
   "execution_count": 8,
   "metadata": {},
   "outputs": [
    {
     "data": {
      "text/html": [
       "<div>\n",
       "<style scoped>\n",
       "    .dataframe tbody tr th:only-of-type {\n",
       "        vertical-align: middle;\n",
       "    }\n",
       "\n",
       "    .dataframe tbody tr th {\n",
       "        vertical-align: top;\n",
       "    }\n",
       "\n",
       "    .dataframe thead th {\n",
       "        text-align: right;\n",
       "    }\n",
       "</style>\n",
       "<table border=\"1\" class=\"dataframe\">\n",
       "  <thead>\n",
       "    <tr style=\"text-align: right;\">\n",
       "      <th></th>\n",
       "      <th>count</th>\n",
       "      <th>mean</th>\n",
       "      <th>std</th>\n",
       "      <th>min</th>\n",
       "      <th>25%</th>\n",
       "      <th>50%</th>\n",
       "      <th>75%</th>\n",
       "      <th>max</th>\n",
       "    </tr>\n",
       "  </thead>\n",
       "  <tbody>\n",
       "    <tr>\n",
       "      <th>Estimated_fire_area</th>\n",
       "      <td>26406.0</td>\n",
       "      <td>144.297966</td>\n",
       "      <td>314.453847</td>\n",
       "      <td>1.0</td>\n",
       "      <td>8.911875</td>\n",
       "      <td>38.434091</td>\n",
       "      <td>146.951278</td>\n",
       "      <td>10120.943170</td>\n",
       "    </tr>\n",
       "    <tr>\n",
       "      <th>Mean_estimated_fire_brightness</th>\n",
       "      <td>26406.0</td>\n",
       "      <td>319.662078</td>\n",
       "      <td>8.862005</td>\n",
       "      <td>290.7</td>\n",
       "      <td>313.933333</td>\n",
       "      <td>319.784412</td>\n",
       "      <td>325.403144</td>\n",
       "      <td>381.950000</td>\n",
       "    </tr>\n",
       "    <tr>\n",
       "      <th>Mean_estimated_fire_radiative_power</th>\n",
       "      <td>26406.0</td>\n",
       "      <td>83.621258</td>\n",
       "      <td>67.510022</td>\n",
       "      <td>0.0</td>\n",
       "      <td>44.150391</td>\n",
       "      <td>67.133333</td>\n",
       "      <td>103.123611</td>\n",
       "      <td>2178.600000</td>\n",
       "    </tr>\n",
       "    <tr>\n",
       "      <th>Mean_confidence</th>\n",
       "      <td>26406.0</td>\n",
       "      <td>87.574735</td>\n",
       "      <td>4.371972</td>\n",
       "      <td>76.0</td>\n",
       "      <td>85.000000</td>\n",
       "      <td>87.771429</td>\n",
       "      <td>90.498403</td>\n",
       "      <td>100.000000</td>\n",
       "    </tr>\n",
       "    <tr>\n",
       "      <th>Std_confidence</th>\n",
       "      <td>24199.0</td>\n",
       "      <td>7.228302</td>\n",
       "      <td>1.995221</td>\n",
       "      <td>0.0</td>\n",
       "      <td>6.687010</td>\n",
       "      <td>7.707025</td>\n",
       "      <td>8.236665</td>\n",
       "      <td>16.970563</td>\n",
       "    </tr>\n",
       "    <tr>\n",
       "      <th>Var_confidence</th>\n",
       "      <td>24199.0</td>\n",
       "      <td>56.229092</td>\n",
       "      <td>25.898935</td>\n",
       "      <td>0.0</td>\n",
       "      <td>44.716106</td>\n",
       "      <td>59.398234</td>\n",
       "      <td>67.842642</td>\n",
       "      <td>288.000000</td>\n",
       "    </tr>\n",
       "    <tr>\n",
       "      <th>Count</th>\n",
       "      <td>26406.0</td>\n",
       "      <td>72.059305</td>\n",
       "      <td>150.973128</td>\n",
       "      <td>1.0</td>\n",
       "      <td>5.000000</td>\n",
       "      <td>20.000000</td>\n",
       "      <td>74.000000</td>\n",
       "      <td>3954.000000</td>\n",
       "    </tr>\n",
       "  </tbody>\n",
       "</table>\n",
       "</div>"
      ],
      "text/plain": [
       "                                       count        mean         std    min  \\\n",
       "Estimated_fire_area                  26406.0  144.297966  314.453847    1.0   \n",
       "Mean_estimated_fire_brightness       26406.0  319.662078    8.862005  290.7   \n",
       "Mean_estimated_fire_radiative_power  26406.0   83.621258   67.510022    0.0   \n",
       "Mean_confidence                      26406.0   87.574735    4.371972   76.0   \n",
       "Std_confidence                       24199.0    7.228302    1.995221    0.0   \n",
       "Var_confidence                       24199.0   56.229092   25.898935    0.0   \n",
       "Count                                26406.0   72.059305  150.973128    1.0   \n",
       "\n",
       "                                            25%         50%         75%  \\\n",
       "Estimated_fire_area                    8.911875   38.434091  146.951278   \n",
       "Mean_estimated_fire_brightness       313.933333  319.784412  325.403144   \n",
       "Mean_estimated_fire_radiative_power   44.150391   67.133333  103.123611   \n",
       "Mean_confidence                       85.000000   87.771429   90.498403   \n",
       "Std_confidence                         6.687010    7.707025    8.236665   \n",
       "Var_confidence                        44.716106   59.398234   67.842642   \n",
       "Count                                  5.000000   20.000000   74.000000   \n",
       "\n",
       "                                              max  \n",
       "Estimated_fire_area                  10120.943170  \n",
       "Mean_estimated_fire_brightness         381.950000  \n",
       "Mean_estimated_fire_radiative_power   2178.600000  \n",
       "Mean_confidence                        100.000000  \n",
       "Std_confidence                          16.970563  \n",
       "Var_confidence                         288.000000  \n",
       "Count                                 3954.000000  "
      ]
     },
     "execution_count": 8,
     "metadata": {},
     "output_type": "execute_result"
    }
   ],
   "source": [
    "wildfires_df.describe().transpose()"
   ]
  },
  {
   "cell_type": "code",
   "execution_count": 9,
   "metadata": {},
   "outputs": [
    {
     "name": "stdout",
     "output_type": "stream",
     "text": [
      "Rows    :  26406\n",
      "Columns :  10\n",
      "\n",
      "Features :  ['Region', 'Date', 'Estimated_fire_area', 'Mean_estimated_fire_brightness', 'Mean_estimated_fire_radiative_power', 'Mean_confidence', 'Std_confidence', 'Var_confidence', 'Count', 'Replaced']\n",
      "\n",
      "Missing Values : \n",
      " Region                                 False\n",
      "Date                                   False\n",
      "Estimated_fire_area                    False\n",
      "Mean_estimated_fire_brightness         False\n",
      "Mean_estimated_fire_radiative_power    False\n",
      "Mean_confidence                        False\n",
      "Std_confidence                          True\n",
      "Var_confidence                          True\n",
      "Count                                  False\n",
      "Replaced                               False\n",
      "dtype: bool\n",
      "\n",
      "Unique Values : \n",
      " Region                                     7\n",
      "Date                                    5782\n",
      "Estimated_fire_area                    18041\n",
      "Mean_estimated_fire_brightness         20203\n",
      "Mean_estimated_fire_radiative_power    21415\n",
      "Mean_confidence                        10804\n",
      "Std_confidence                         18882\n",
      "Var_confidence                         18881\n",
      "Count                                    873\n",
      "Replaced                                   2\n",
      "dtype: int64\n",
      "Number of records: 26406\n",
      "Number of regions: 7\n",
      "\n",
      "['NSW' 'NT' 'QL' 'SA' 'TA' 'VI' 'WA']\n"
     ]
    }
   ],
   "source": [
    "print(\"Rows    : \", wildfires_df.shape[0])\n",
    "print(\"Columns : \", wildfires_df.shape[1])\n",
    "print(\"\\nFeatures : \", wildfires_df.columns.tolist())\n",
    "print(\"\\nMissing Values : \\n\",wildfires_df.isnull().any())\n",
    "print(\"\\nUnique Values : \\n\",wildfires_df.nunique())\n",
    "print(\"Number of records: {}\".format(len(wildfires_df)))\n",
    "print(\"Number of regions: {}\\n\".format(len(wildfires_df['Region'].unique())))\n",
    "print(wildfires_df['Region'].unique())"
   ]
  },
  {
   "cell_type": "code",
   "execution_count": 10,
   "metadata": {},
   "outputs": [
    {
     "data": {
      "text/plain": [
       "Std_confidence    2207\n",
       "Var_confidence    2207\n",
       "dtype: int64"
      ]
     },
     "execution_count": 10,
     "metadata": {},
     "output_type": "execute_result"
    }
   ],
   "source": [
    "# find only the columns that have missing values\n",
    "null_columns = wildfires_df.columns[wildfires_df.isna().any()]\n",
    "wildfires_df[null_columns].isna().sum()"
   ]
  },
  {
   "cell_type": "code",
   "execution_count": 11,
   "metadata": {},
   "outputs": [
    {
     "data": {
      "text/html": [
       "<div>\n",
       "<style scoped>\n",
       "    .dataframe tbody tr th:only-of-type {\n",
       "        vertical-align: middle;\n",
       "    }\n",
       "\n",
       "    .dataframe tbody tr th {\n",
       "        vertical-align: top;\n",
       "    }\n",
       "\n",
       "    .dataframe thead th {\n",
       "        text-align: right;\n",
       "    }\n",
       "</style>\n",
       "<table border=\"1\" class=\"dataframe\">\n",
       "  <thead>\n",
       "    <tr style=\"text-align: right;\">\n",
       "      <th></th>\n",
       "      <th>Region</th>\n",
       "      <th>Date</th>\n",
       "      <th>Estimated_fire_area</th>\n",
       "      <th>Mean_estimated_fire_brightness</th>\n",
       "      <th>Mean_estimated_fire_radiative_power</th>\n",
       "      <th>Mean_confidence</th>\n",
       "      <th>Std_confidence</th>\n",
       "      <th>Var_confidence</th>\n",
       "      <th>Count</th>\n",
       "      <th>Replaced</th>\n",
       "    </tr>\n",
       "  </thead>\n",
       "  <tbody>\n",
       "    <tr>\n",
       "      <th>48</th>\n",
       "      <td>NSW</td>\n",
       "      <td>2005-02-26</td>\n",
       "      <td>1.00</td>\n",
       "      <td>303.15</td>\n",
       "      <td>8.0</td>\n",
       "      <td>79.0</td>\n",
       "      <td>NaN</td>\n",
       "      <td>NaN</td>\n",
       "      <td>1</td>\n",
       "      <td>R</td>\n",
       "    </tr>\n",
       "    <tr>\n",
       "      <th>149</th>\n",
       "      <td>NSW</td>\n",
       "      <td>2005-06-12</td>\n",
       "      <td>1.00</td>\n",
       "      <td>302.55</td>\n",
       "      <td>17.9</td>\n",
       "      <td>79.0</td>\n",
       "      <td>NaN</td>\n",
       "      <td>NaN</td>\n",
       "      <td>1</td>\n",
       "      <td>R</td>\n",
       "    </tr>\n",
       "    <tr>\n",
       "      <th>154</th>\n",
       "      <td>NSW</td>\n",
       "      <td>2005-06-18</td>\n",
       "      <td>5.27</td>\n",
       "      <td>301.30</td>\n",
       "      <td>71.9</td>\n",
       "      <td>77.0</td>\n",
       "      <td>NaN</td>\n",
       "      <td>NaN</td>\n",
       "      <td>1</td>\n",
       "      <td>R</td>\n",
       "    </tr>\n",
       "    <tr>\n",
       "      <th>157</th>\n",
       "      <td>NSW</td>\n",
       "      <td>2005-06-25</td>\n",
       "      <td>9.60</td>\n",
       "      <td>300.70</td>\n",
       "      <td>145.9</td>\n",
       "      <td>76.0</td>\n",
       "      <td>NaN</td>\n",
       "      <td>NaN</td>\n",
       "      <td>1</td>\n",
       "      <td>R</td>\n",
       "    </tr>\n",
       "    <tr>\n",
       "      <th>163</th>\n",
       "      <td>NSW</td>\n",
       "      <td>2005-07-09</td>\n",
       "      <td>2.80</td>\n",
       "      <td>294.65</td>\n",
       "      <td>37.8</td>\n",
       "      <td>79.0</td>\n",
       "      <td>NaN</td>\n",
       "      <td>NaN</td>\n",
       "      <td>1</td>\n",
       "      <td>R</td>\n",
       "    </tr>\n",
       "    <tr>\n",
       "      <th>...</th>\n",
       "      <td>...</td>\n",
       "      <td>...</td>\n",
       "      <td>...</td>\n",
       "      <td>...</td>\n",
       "      <td>...</td>\n",
       "      <td>...</td>\n",
       "      <td>...</td>\n",
       "      <td>...</td>\n",
       "      <td>...</td>\n",
       "      <td>...</td>\n",
       "    </tr>\n",
       "    <tr>\n",
       "      <th>26327</th>\n",
       "      <td>WA</td>\n",
       "      <td>2020-08-09</td>\n",
       "      <td>2.34</td>\n",
       "      <td>300.15</td>\n",
       "      <td>30.2</td>\n",
       "      <td>85.0</td>\n",
       "      <td>NaN</td>\n",
       "      <td>NaN</td>\n",
       "      <td>1</td>\n",
       "      <td>N</td>\n",
       "    </tr>\n",
       "    <tr>\n",
       "      <th>26331</th>\n",
       "      <td>WA</td>\n",
       "      <td>2020-08-13</td>\n",
       "      <td>1.10</td>\n",
       "      <td>320.35</td>\n",
       "      <td>27.1</td>\n",
       "      <td>83.0</td>\n",
       "      <td>NaN</td>\n",
       "      <td>NaN</td>\n",
       "      <td>1</td>\n",
       "      <td>N</td>\n",
       "    </tr>\n",
       "    <tr>\n",
       "      <th>26332</th>\n",
       "      <td>WA</td>\n",
       "      <td>2020-08-14</td>\n",
       "      <td>1.00</td>\n",
       "      <td>302.15</td>\n",
       "      <td>15.8</td>\n",
       "      <td>77.0</td>\n",
       "      <td>NaN</td>\n",
       "      <td>NaN</td>\n",
       "      <td>1</td>\n",
       "      <td>N</td>\n",
       "    </tr>\n",
       "    <tr>\n",
       "      <th>26335</th>\n",
       "      <td>WA</td>\n",
       "      <td>2020-08-20</td>\n",
       "      <td>1.92</td>\n",
       "      <td>326.85</td>\n",
       "      <td>86.2</td>\n",
       "      <td>92.0</td>\n",
       "      <td>NaN</td>\n",
       "      <td>NaN</td>\n",
       "      <td>1</td>\n",
       "      <td>N</td>\n",
       "    </tr>\n",
       "    <tr>\n",
       "      <th>26337</th>\n",
       "      <td>WA</td>\n",
       "      <td>2020-08-22</td>\n",
       "      <td>2.47</td>\n",
       "      <td>321.10</td>\n",
       "      <td>43.9</td>\n",
       "      <td>79.0</td>\n",
       "      <td>NaN</td>\n",
       "      <td>NaN</td>\n",
       "      <td>1</td>\n",
       "      <td>N</td>\n",
       "    </tr>\n",
       "  </tbody>\n",
       "</table>\n",
       "<p>2207 rows × 10 columns</p>\n",
       "</div>"
      ],
      "text/plain": [
       "      Region       Date  Estimated_fire_area  Mean_estimated_fire_brightness  \\\n",
       "48       NSW 2005-02-26                 1.00                          303.15   \n",
       "149      NSW 2005-06-12                 1.00                          302.55   \n",
       "154      NSW 2005-06-18                 5.27                          301.30   \n",
       "157      NSW 2005-06-25                 9.60                          300.70   \n",
       "163      NSW 2005-07-09                 2.80                          294.65   \n",
       "...      ...        ...                  ...                             ...   \n",
       "26327     WA 2020-08-09                 2.34                          300.15   \n",
       "26331     WA 2020-08-13                 1.10                          320.35   \n",
       "26332     WA 2020-08-14                 1.00                          302.15   \n",
       "26335     WA 2020-08-20                 1.92                          326.85   \n",
       "26337     WA 2020-08-22                 2.47                          321.10   \n",
       "\n",
       "       Mean_estimated_fire_radiative_power  Mean_confidence  Std_confidence  \\\n",
       "48                                     8.0             79.0             NaN   \n",
       "149                                   17.9             79.0             NaN   \n",
       "154                                   71.9             77.0             NaN   \n",
       "157                                  145.9             76.0             NaN   \n",
       "163                                   37.8             79.0             NaN   \n",
       "...                                    ...              ...             ...   \n",
       "26327                                 30.2             85.0             NaN   \n",
       "26331                                 27.1             83.0             NaN   \n",
       "26332                                 15.8             77.0             NaN   \n",
       "26335                                 86.2             92.0             NaN   \n",
       "26337                                 43.9             79.0             NaN   \n",
       "\n",
       "       Var_confidence  Count Replaced  \n",
       "48                NaN      1        R  \n",
       "149               NaN      1        R  \n",
       "154               NaN      1        R  \n",
       "157               NaN      1        R  \n",
       "163               NaN      1        R  \n",
       "...               ...    ...      ...  \n",
       "26327             NaN      1        N  \n",
       "26331             NaN      1        N  \n",
       "26332             NaN      1        N  \n",
       "26335             NaN      1        N  \n",
       "26337             NaN      1        N  \n",
       "\n",
       "[2207 rows x 10 columns]"
      ]
     },
     "execution_count": 11,
     "metadata": {},
     "output_type": "execute_result"
    }
   ],
   "source": [
    "# Check the reason for above null values\n",
    "wildfires_df.loc[wildfires_df.Std_confidence.isna(), :]\n",
    "wildfires_df.loc[wildfires_df.Var_confidence.isna(), :]"
   ]
  },
  {
   "cell_type": "code",
   "execution_count": 12,
   "metadata": {},
   "outputs": [
    {
     "name": "stdout",
     "output_type": "stream",
     "text": [
      "Distinct 'Count' column values when Std_confidence and Var_confidence are NULL.\n",
      "\n",
      "'Count' Column Values: [1 1 1 ... 1 1 1]\n"
     ]
    }
   ],
   "source": [
    "# distinct \"Count\" column values when Std_confidence and Var_confidence are NULL.\n",
    "print(\"Distinct 'Count' column values when Std_confidence and Var_confidence are NULL.\\n\")\n",
    "Count_values = wildfires_df.loc[(wildfires_df['Std_confidence'].isna()) & (wildfires_df['Var_confidence'].isna()), 'Count'].values\n",
    "print(\"'Count' Column Values: {}\".format(Count_values))\n",
    "# Disply the index for missing values\n",
    "#wildfires_df[wildfires_df.isna().any(axis=1)].index"
   ]
  },
  {
   "cell_type": "code",
   "execution_count": 13,
   "metadata": {},
   "outputs": [
    {
     "data": {
      "text/html": [
       "<div>\n",
       "<style scoped>\n",
       "    .dataframe tbody tr th:only-of-type {\n",
       "        vertical-align: middle;\n",
       "    }\n",
       "\n",
       "    .dataframe tbody tr th {\n",
       "        vertical-align: top;\n",
       "    }\n",
       "\n",
       "    .dataframe thead th {\n",
       "        text-align: right;\n",
       "    }\n",
       "</style>\n",
       "<table border=\"1\" class=\"dataframe\">\n",
       "  <thead>\n",
       "    <tr style=\"text-align: right;\">\n",
       "      <th></th>\n",
       "      <th>Std_confidence</th>\n",
       "      <th>Var_confidence</th>\n",
       "    </tr>\n",
       "  </thead>\n",
       "  <tbody>\n",
       "    <tr>\n",
       "      <th>48</th>\n",
       "      <td>NaN</td>\n",
       "      <td>NaN</td>\n",
       "    </tr>\n",
       "    <tr>\n",
       "      <th>149</th>\n",
       "      <td>NaN</td>\n",
       "      <td>NaN</td>\n",
       "    </tr>\n",
       "    <tr>\n",
       "      <th>154</th>\n",
       "      <td>NaN</td>\n",
       "      <td>NaN</td>\n",
       "    </tr>\n",
       "    <tr>\n",
       "      <th>157</th>\n",
       "      <td>NaN</td>\n",
       "      <td>NaN</td>\n",
       "    </tr>\n",
       "    <tr>\n",
       "      <th>163</th>\n",
       "      <td>NaN</td>\n",
       "      <td>NaN</td>\n",
       "    </tr>\n",
       "    <tr>\n",
       "      <th>...</th>\n",
       "      <td>...</td>\n",
       "      <td>...</td>\n",
       "    </tr>\n",
       "    <tr>\n",
       "      <th>26327</th>\n",
       "      <td>NaN</td>\n",
       "      <td>NaN</td>\n",
       "    </tr>\n",
       "    <tr>\n",
       "      <th>26331</th>\n",
       "      <td>NaN</td>\n",
       "      <td>NaN</td>\n",
       "    </tr>\n",
       "    <tr>\n",
       "      <th>26332</th>\n",
       "      <td>NaN</td>\n",
       "      <td>NaN</td>\n",
       "    </tr>\n",
       "    <tr>\n",
       "      <th>26335</th>\n",
       "      <td>NaN</td>\n",
       "      <td>NaN</td>\n",
       "    </tr>\n",
       "    <tr>\n",
       "      <th>26337</th>\n",
       "      <td>NaN</td>\n",
       "      <td>NaN</td>\n",
       "    </tr>\n",
       "  </tbody>\n",
       "</table>\n",
       "<p>2207 rows × 2 columns</p>\n",
       "</div>"
      ],
      "text/plain": [
       "       Std_confidence  Var_confidence\n",
       "48                NaN             NaN\n",
       "149               NaN             NaN\n",
       "154               NaN             NaN\n",
       "157               NaN             NaN\n",
       "163               NaN             NaN\n",
       "...               ...             ...\n",
       "26327             NaN             NaN\n",
       "26331             NaN             NaN\n",
       "26332             NaN             NaN\n",
       "26335             NaN             NaN\n",
       "26337             NaN             NaN\n",
       "\n",
       "[2207 rows x 2 columns]"
      ]
     },
     "execution_count": 13,
     "metadata": {},
     "output_type": "execute_result"
    }
   ],
   "source": [
    "# columns DataFrame with missing values \n",
    "wildfires_df[wildfires_df.isna().any(axis=1)][null_columns]"
   ]
  },
  {
   "cell_type": "markdown",
   "metadata": {},
   "source": [
    "#### Fixing Missing Values <a class=\"anchor\" id=\"FixingMissing\"></a>"
   ]
  },
  {
   "cell_type": "code",
   "execution_count": 14,
   "metadata": {},
   "outputs": [
    {
     "data": {
      "text/plain": [
       "7.228302073334739"
      ]
     },
     "execution_count": 14,
     "metadata": {},
     "output_type": "execute_result"
    }
   ],
   "source": [
    "#### Fill NaN with \"mean\" value\n",
    "Std_confidence_mean_value = wildfires_df.Std_confidence.mean()\n",
    "Std_confidence_mean_value\n"
   ]
  },
  {
   "cell_type": "code",
   "execution_count": 15,
   "metadata": {},
   "outputs": [],
   "source": [
    "wildfires_df.Std_confidence = wildfires_df.Std_confidence.fillna(Std_confidence_mean_value)"
   ]
  },
  {
   "cell_type": "code",
   "execution_count": 16,
   "metadata": {},
   "outputs": [
    {
     "data": {
      "text/plain": [
       "56.22909232542304"
      ]
     },
     "execution_count": 16,
     "metadata": {},
     "output_type": "execute_result"
    }
   ],
   "source": [
    "Var_confidence_mean_value = wildfires_df.Var_confidence.mean()\n",
    "Var_confidence_mean_value"
   ]
  },
  {
   "cell_type": "code",
   "execution_count": 17,
   "metadata": {},
   "outputs": [],
   "source": [
    "wildfires_df.Var_confidence = wildfires_df.Var_confidence.fillna(Var_confidence_mean_value)"
   ]
  },
  {
   "cell_type": "code",
   "execution_count": 18,
   "metadata": {},
   "outputs": [
    {
     "data": {
      "text/plain": [
       "Region                                 0\n",
       "Date                                   0\n",
       "Estimated_fire_area                    0\n",
       "Mean_estimated_fire_brightness         0\n",
       "Mean_estimated_fire_radiative_power    0\n",
       "Mean_confidence                        0\n",
       "Std_confidence                         0\n",
       "Var_confidence                         0\n",
       "Count                                  0\n",
       "Replaced                               0\n",
       "dtype: int64"
      ]
     },
     "execution_count": 18,
     "metadata": {},
     "output_type": "execute_result"
    }
   ],
   "source": [
    "#check for missing values\n",
    "wildfires_df.isna().sum()"
   ]
  },
  {
   "cell_type": "code",
   "execution_count": 19,
   "metadata": {},
   "outputs": [],
   "source": [
    "#As we can see that Standard Deviation and Variance Confidence values are null because Count equals 1.\n",
    "#Count of 1 shows that there was 1 pixel representing other values. So, lets fill these NULL values with zero.\n",
    "#wildfires_df.loc[wildfires_df['Std_confidence'].isna(), 'Std_confidence'] = 0\n",
    "#wildfires_df.loc[wildfires_df['Var_confidence'].isna(), 'Var_confidence'] = 0\n",
    "#print(\"\\nMissing Values : \\n\",wildfires_df.isnull().any()) #check if it has been fixed, that we have dropped Null values."
   ]
  },
  {
   "cell_type": "markdown",
   "metadata": {},
   "source": [
    "#### Checking for Duplicates <a class=\"anchor\" id=\"Duplicates\"></a>"
   ]
  },
  {
   "cell_type": "code",
   "execution_count": 20,
   "metadata": {},
   "outputs": [
    {
     "data": {
      "text/plain": [
       "0"
      ]
     },
     "execution_count": 20,
     "metadata": {},
     "output_type": "execute_result"
    }
   ],
   "source": [
    "# find duplicates\n",
    "wildfires_df.duplicated().sum()"
   ]
  },
  {
   "cell_type": "markdown",
   "metadata": {},
   "source": [
    "#### Fixing Duplicates <a class=\"anchor\" id=\"FixingDuplicates\"></a>"
   ]
  },
  {
   "cell_type": "code",
   "execution_count": 21,
   "metadata": {},
   "outputs": [],
   "source": [
    "# if there were duplicates, this is the process to remove them by:\n",
    "# Dropping duplicates in data and reseting the index and checking total records in data\n",
    "\n",
    "# Remove Duplicates\n",
    "#wildfires_df.drop_duplicates(inplace=True)\n",
    "\n",
    "# Reset dataframe index\n",
    "#wildfires_df.reset_index(drop=True, inplace=True)\n",
    "\n",
    "# Number of records\n",
    "#num_rows, num_cols = wildfires_df.shape\n",
    "#print(\"Total Records:\\t{}\".format(num_rows))\n",
    "\n",
    "# First five rows in data\n",
    "#wildfires_df.head()"
   ]
  },
  {
   "cell_type": "markdown",
   "metadata": {},
   "source": [
    "#### Wildfires Data Review <a class=\"anchor\" id=\"DataReview\"></a>"
   ]
  },
  {
   "cell_type": "code",
   "execution_count": 22,
   "metadata": {},
   "outputs": [
    {
     "data": {
      "text/plain": [
       "Region\n",
       "NSW    4623\n",
       "NT     5053\n",
       "QL     5533\n",
       "SA     1990\n",
       "TA     1404\n",
       "VI     2176\n",
       "WA     5627\n",
       "dtype: int64"
      ]
     },
     "execution_count": 22,
     "metadata": {},
     "output_type": "execute_result"
    }
   ],
   "source": [
    "# frequencies for Region column\n",
    "wildfires_df.pivot_table(index= ['Region'], aggfunc='size')"
   ]
  },
  {
   "cell_type": "markdown",
   "metadata": {},
   "source": [
    "#### Saving out the final C&P_Wildfires CSV File <a class=\"anchor\" id=\"PreprocessedWildfires\"></a>"
   ]
  },
  {
   "cell_type": "code",
   "execution_count": 23,
   "metadata": {},
   "outputs": [
    {
     "name": "stdout",
     "output_type": "stream",
     "text": [
      "Saving file: 'C&P_Wildfires.csv'\n",
      "File Saved...\n"
     ]
    }
   ],
   "source": [
    "final_file = \"C&P_Wildfires.csv\"\n",
    "print(\"Saving file: '{}'\".format(final_file))\n",
    "wildfires_df.to_csv(final_file, index=False, encoding='utf-8')\n",
    "print(\"File Saved...\")"
   ]
  },
  {
   "cell_type": "code",
   "execution_count": 24,
   "metadata": {},
   "outputs": [],
   "source": [
    "# check DataFrame exported\n",
    "df = pd.read_csv(\"P:\\Wildfires_Australia\\cfc_wildfireforecastforAustralia\\C&P_Wildfires.csv\")\n",
    "df['Date'] = pd.to_datetime(df['Date'])"
   ]
  },
  {
   "cell_type": "code",
   "execution_count": 25,
   "metadata": {},
   "outputs": [
    {
     "data": {
      "text/html": [
       "<div>\n",
       "<style scoped>\n",
       "    .dataframe tbody tr th:only-of-type {\n",
       "        vertical-align: middle;\n",
       "    }\n",
       "\n",
       "    .dataframe tbody tr th {\n",
       "        vertical-align: top;\n",
       "    }\n",
       "\n",
       "    .dataframe thead th {\n",
       "        text-align: right;\n",
       "    }\n",
       "</style>\n",
       "<table border=\"1\" class=\"dataframe\">\n",
       "  <thead>\n",
       "    <tr style=\"text-align: right;\">\n",
       "      <th></th>\n",
       "      <th>Region</th>\n",
       "      <th>Date</th>\n",
       "      <th>Estimated_fire_area</th>\n",
       "      <th>Mean_estimated_fire_brightness</th>\n",
       "      <th>Mean_estimated_fire_radiative_power</th>\n",
       "      <th>Mean_confidence</th>\n",
       "      <th>Std_confidence</th>\n",
       "      <th>Var_confidence</th>\n",
       "      <th>Count</th>\n",
       "      <th>Replaced</th>\n",
       "    </tr>\n",
       "  </thead>\n",
       "  <tbody>\n",
       "    <tr>\n",
       "      <th>0</th>\n",
       "      <td>NSW</td>\n",
       "      <td>2005-01-04</td>\n",
       "      <td>8.68000</td>\n",
       "      <td>312.266667</td>\n",
       "      <td>42.400000</td>\n",
       "      <td>78.666667</td>\n",
       "      <td>2.886751</td>\n",
       "      <td>8.333333</td>\n",
       "      <td>3</td>\n",
       "      <td>R</td>\n",
       "    </tr>\n",
       "    <tr>\n",
       "      <th>1</th>\n",
       "      <td>NSW</td>\n",
       "      <td>2005-01-05</td>\n",
       "      <td>16.61125</td>\n",
       "      <td>322.475000</td>\n",
       "      <td>62.362500</td>\n",
       "      <td>85.500000</td>\n",
       "      <td>8.088793</td>\n",
       "      <td>65.428571</td>\n",
       "      <td>8</td>\n",
       "      <td>R</td>\n",
       "    </tr>\n",
       "    <tr>\n",
       "      <th>2</th>\n",
       "      <td>NSW</td>\n",
       "      <td>2005-01-06</td>\n",
       "      <td>5.52000</td>\n",
       "      <td>325.266667</td>\n",
       "      <td>38.400000</td>\n",
       "      <td>78.333333</td>\n",
       "      <td>3.214550</td>\n",
       "      <td>10.333333</td>\n",
       "      <td>3</td>\n",
       "      <td>R</td>\n",
       "    </tr>\n",
       "    <tr>\n",
       "      <th>3</th>\n",
       "      <td>NSW</td>\n",
       "      <td>2005-01-07</td>\n",
       "      <td>6.26400</td>\n",
       "      <td>313.870000</td>\n",
       "      <td>33.800000</td>\n",
       "      <td>92.200000</td>\n",
       "      <td>7.529940</td>\n",
       "      <td>56.700000</td>\n",
       "      <td>5</td>\n",
       "      <td>R</td>\n",
       "    </tr>\n",
       "    <tr>\n",
       "      <th>4</th>\n",
       "      <td>NSW</td>\n",
       "      <td>2005-01-08</td>\n",
       "      <td>5.40000</td>\n",
       "      <td>337.383333</td>\n",
       "      <td>122.533333</td>\n",
       "      <td>91.000000</td>\n",
       "      <td>7.937254</td>\n",
       "      <td>63.000000</td>\n",
       "      <td>3</td>\n",
       "      <td>R</td>\n",
       "    </tr>\n",
       "  </tbody>\n",
       "</table>\n",
       "</div>"
      ],
      "text/plain": [
       "  Region       Date  Estimated_fire_area  Mean_estimated_fire_brightness  \\\n",
       "0    NSW 2005-01-04              8.68000                      312.266667   \n",
       "1    NSW 2005-01-05             16.61125                      322.475000   \n",
       "2    NSW 2005-01-06              5.52000                      325.266667   \n",
       "3    NSW 2005-01-07              6.26400                      313.870000   \n",
       "4    NSW 2005-01-08              5.40000                      337.383333   \n",
       "\n",
       "   Mean_estimated_fire_radiative_power  Mean_confidence  Std_confidence  \\\n",
       "0                            42.400000        78.666667        2.886751   \n",
       "1                            62.362500        85.500000        8.088793   \n",
       "2                            38.400000        78.333333        3.214550   \n",
       "3                            33.800000        92.200000        7.529940   \n",
       "4                           122.533333        91.000000        7.937254   \n",
       "\n",
       "   Var_confidence  Count Replaced  \n",
       "0        8.333333      3        R  \n",
       "1       65.428571      8        R  \n",
       "2       10.333333      3        R  \n",
       "3       56.700000      5        R  \n",
       "4       63.000000      3        R  "
      ]
     },
     "execution_count": 25,
     "metadata": {},
     "output_type": "execute_result"
    }
   ],
   "source": [
    "df.head()"
   ]
  },
  {
   "cell_type": "code",
   "execution_count": 26,
   "metadata": {},
   "outputs": [
    {
     "data": {
      "text/plain": [
       "(26406, 10)"
      ]
     },
     "execution_count": 26,
     "metadata": {},
     "output_type": "execute_result"
    }
   ],
   "source": [
    "df.shape"
   ]
  },
  {
   "cell_type": "code",
   "execution_count": 27,
   "metadata": {},
   "outputs": [
    {
     "data": {
      "text/plain": [
       "'datetime64[ns]'"
      ]
     },
     "execution_count": 27,
     "metadata": {},
     "output_type": "execute_result"
    }
   ],
   "source": [
    "df.Date.dtype.name"
   ]
  },
  {
   "cell_type": "code",
   "execution_count": 28,
   "metadata": {},
   "outputs": [
    {
     "data": {
      "text/plain": [
       "Region                                 0\n",
       "Date                                   0\n",
       "Estimated_fire_area                    0\n",
       "Mean_estimated_fire_brightness         0\n",
       "Mean_estimated_fire_radiative_power    0\n",
       "Mean_confidence                        0\n",
       "Std_confidence                         0\n",
       "Var_confidence                         0\n",
       "Count                                  0\n",
       "Replaced                               0\n",
       "dtype: int64"
      ]
     },
     "execution_count": 28,
     "metadata": {},
     "output_type": "execute_result"
    }
   ],
   "source": [
    "df.isna().sum()"
   ]
  }
 ],
 "metadata": {
  "kernelspec": {
   "display_name": "Python 3",
   "language": "python",
   "name": "python3"
  },
  "language_info": {
   "codemirror_mode": {
    "name": "ipython",
    "version": 3
   },
   "file_extension": ".py",
   "mimetype": "text/x-python",
   "name": "python",
   "nbconvert_exporter": "python",
   "pygments_lexer": "ipython3",
   "version": "3.8.5"
  }
 },
 "nbformat": 4,
 "nbformat_minor": 4
}
